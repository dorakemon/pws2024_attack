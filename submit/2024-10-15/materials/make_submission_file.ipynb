{
 "cells": [
  {
   "cell_type": "code",
   "execution_count": 29,
   "metadata": {},
   "outputs": [
    {
     "data": {
      "text/plain": [
       "'\\n01\\t宮地研.exe\\n02\\t私達日本語本当下手\\n03\\tポップコーン\\n04\\tHots\\n05\\tSHA-NES\\n06\\t神ぼ大νττ\\n07\\tたけのこ映画守り隊\\n08\\t0xA\\n09\\tステテコ泥棒\\n10\\t動的計画法\\n11\\tGunmataro117\\n12\\tHAL\\n14\\tprivocy\\n15\\tES5 →多数決で陥落？\\n16\\t佐古研究室\\n17\\tこそっとアタック、しれっとブロック\\n18\\t匿名アノニマス\\n19\\tRITCHEY\\n20\\tKAT-TUNE\\n21\\tPR.AVATECT\\n22\\t春日部防衛隊（かすかべ防衛隊）\\n'"
      ]
     },
     "execution_count": 29,
     "metadata": {},
     "output_type": "execute_result"
    }
   ],
   "source": [
    "FIRST_SUBMISSION_PATH = \"./submit/2024-10-08/final/E16.csv\"\n",
    "SECOND_SUBMISSION_PATH = \"./submit/2024-10-14/final/E16.csv\"\n",
    "\n",
    "# 仮置き\n",
    "FIRST_ATTACK_LIST = []\n",
    "SECOND_ATTACK_LIST = []\n",
    "\n",
    "# 穴埋めだけ別の手法で埋めたいチーム\n",
    "ANAUME_TEAM_LIST = [9,20,21]\n",
    "# ベイズ推定の穴埋め結果\n",
    "anaume_dict = {\n",
    "    9 : [5, 2, 0, 0, 0, 0, 0, 0, 4, 0, 5, 0, 4, 0, 0, 0, 0, 2, 5, 4, 0, 5, 0, 0, 0, 0, 5, 0, 4, 0, 2, 0, 1, 0, 0, 5, 3, 3, 0, 4, 0, 0, 3, 0, 3, 0, 0, 0, 0, 1],\n",
    "    # 10 : [0, 0, 0, 0, 1, 0, 0, 5, 3, 0, 0, 0, 0, 0, 0, 0, 1, 0, 5, 0, 0, 0, 0, 1, 0, 4, 5, 2, 0, 1, 0, 3, 0, 3, 4, 1, 1, 0, 5, 5, 0, 0, 0, 0, 5, 0, 5, 0, 4, 0],\n",
    "    20 : [0, 0, 5, 0, 0, 1, 4, 0, 5, 0, 5, 1, 0, 0, 0, 0, 0, 0, 5, 0, 0, 5, 0, 0, 0, 4, 5, 0, 0, 0, 0, 0, 0, 0, 0, 5, 5, 4, 1, 3, 0, 0, 5, 2, 4, 0, 1, 0, 0, 4],\n",
    "    21 : [4, 0, 1, 0, 0, 0, 0, 0, 4, 0, 5, 0, 0, 0, 0, 0, 0, 0, 3, 0, 0, 5, 5, 0, 0, 4, 3, 0, 0, 0, 0, 5, 2, 1, 2, 1, 1, 2, 0, 5, 3, 0, 2, 0, 0, 0, 0, 0, 0, 3],\n",
    "}\n",
    "\n",
    "# まったく別のファイルで埋めたいチーム\n",
    "OTHER_TEAM_LIST = [14, 18]\n",
    "\n",
    "\"\"\"\n",
    "01\t宮地研.exe\n",
    "02\t私達日本語本当下手\n",
    "03\tポップコーン\n",
    "04\tHots\n",
    "05\tSHA-NES\n",
    "06\t神ぼ大νττ\n",
    "07\tたけのこ映画守り隊\n",
    "08\t0xA\n",
    "09\tステテコ泥棒\n",
    "10\t動的計画法\n",
    "11\tGunmataro117\n",
    "12\tHAL\n",
    "14\tprivocy\n",
    "15\tES5 →多数決で陥落？\n",
    "16\t佐古研究室\n",
    "17\tこそっとアタック、しれっとブロック\n",
    "18\t匿名アノニマス\n",
    "19\tRITCHEY\n",
    "20\tKAT-TUNE\n",
    "21\tPR.AVATECT\n",
    "22\t春日部防衛隊（かすかべ防衛隊）\n",
    "\"\"\""
   ]
  },
  {
   "cell_type": "code",
   "execution_count": 30,
   "metadata": {},
   "outputs": [
    {
     "data": {
      "text/html": [
       "<div>\n",
       "<style scoped>\n",
       "    .dataframe tbody tr th:only-of-type {\n",
       "        vertical-align: middle;\n",
       "    }\n",
       "\n",
       "    .dataframe tbody tr th {\n",
       "        vertical-align: top;\n",
       "    }\n",
       "\n",
       "    .dataframe thead th {\n",
       "        text-align: right;\n",
       "    }\n",
       "</style>\n",
       "<table border=\"1\" class=\"dataframe\">\n",
       "  <thead>\n",
       "    <tr style=\"text-align: right;\">\n",
       "      <th></th>\n",
       "      <th>ID</th>\n",
       "      <th>チーム名</th>\n",
       "      <th>チーム代表</th>\n",
       "      <th>Utility Score</th>\n",
       "      <th>Sample Attack</th>\n",
       "      <th>Random Forestによる識別率</th>\n",
       "      <th>GAOZの分布の違いあり</th>\n",
       "      <th>Reviewの分布の違いあり</th>\n",
       "      <th>攻撃担当者</th>\n",
       "      <th>重要チーム</th>\n",
       "      <th>...</th>\n",
       "      <th>２回目の攻撃の手法 マッチング (Distinct変化)</th>\n",
       "      <th>２回目の攻撃の手法 穴埋め gomi22</th>\n",
       "      <th>２回目結果</th>\n",
       "      <th>２回目の匿名点</th>\n",
       "      <th>改善2回目-１回目</th>\n",
       "      <th>Unnamed: 24</th>\n",
       "      <th>いいとこどり得点</th>\n",
       "      <th>いいとこどりでのランキング</th>\n",
       "      <th>3回目攻撃手法</th>\n",
       "      <th>泥臭方式</th>\n",
       "    </tr>\n",
       "  </thead>\n",
       "  <tbody>\n",
       "    <tr>\n",
       "      <th>0</th>\n",
       "      <td>1.0</td>\n",
       "      <td>宮地研.exe</td>\n",
       "      <td>myjlabexe</td>\n",
       "      <td>91.02</td>\n",
       "      <td>88.0</td>\n",
       "      <td>0.30</td>\n",
       "      <td>TRUE</td>\n",
       "      <td>True</td>\n",
       "      <td>なし</td>\n",
       "      <td>FALSE</td>\n",
       "      <td>...</td>\n",
       "      <td>Mae w/ Divor (40 -&gt; 44)</td>\n",
       "      <td>Mae</td>\n",
       "      <td>68.0</td>\n",
       "      <td>32.0</td>\n",
       "      <td>4.0</td>\n",
       "      <td>32.0</td>\n",
       "      <td>123.02</td>\n",
       "      <td>15.0</td>\n",
       "      <td>いいとこどり</td>\n",
       "      <td>NaN</td>\n",
       "    </tr>\n",
       "    <tr>\n",
       "      <th>1</th>\n",
       "      <td>2.0</td>\n",
       "      <td>私達日本語本当下手</td>\n",
       "      <td>zelret</td>\n",
       "      <td>83.69</td>\n",
       "      <td>87.0</td>\n",
       "      <td>0.35</td>\n",
       "      <td>TRUE</td>\n",
       "      <td>True</td>\n",
       "      <td>なし</td>\n",
       "      <td>FALSE</td>\n",
       "      <td>...</td>\n",
       "      <td>Mae w/ Divor (39 -&gt; 40)</td>\n",
       "      <td>Mae</td>\n",
       "      <td>51.0</td>\n",
       "      <td>49.0</td>\n",
       "      <td>1.0</td>\n",
       "      <td>49.0</td>\n",
       "      <td>132.69</td>\n",
       "      <td>10.0</td>\n",
       "      <td>いいとこどり</td>\n",
       "      <td>NaN</td>\n",
       "    </tr>\n",
       "    <tr>\n",
       "      <th>2</th>\n",
       "      <td>3.0</td>\n",
       "      <td>ポップコーン</td>\n",
       "      <td>jbstkf</td>\n",
       "      <td>76.76</td>\n",
       "      <td>84.0</td>\n",
       "      <td>0.44</td>\n",
       "      <td>Genderのみ</td>\n",
       "      <td>False</td>\n",
       "      <td>なし</td>\n",
       "      <td>FALSE</td>\n",
       "      <td>...</td>\n",
       "      <td>Mae w/ Divor (34 -&gt; 37)</td>\n",
       "      <td>Mae</td>\n",
       "      <td>56.0</td>\n",
       "      <td>44.0</td>\n",
       "      <td>-2.0</td>\n",
       "      <td>42.0</td>\n",
       "      <td>118.76</td>\n",
       "      <td>17.0</td>\n",
       "      <td>いいとこどり</td>\n",
       "      <td>5つほど</td>\n",
       "    </tr>\n",
       "    <tr>\n",
       "      <th>3</th>\n",
       "      <td>4.0</td>\n",
       "      <td>Hots</td>\n",
       "      <td>rq1543180</td>\n",
       "      <td>69.10</td>\n",
       "      <td>81.0</td>\n",
       "      <td>0.33</td>\n",
       "      <td>TRUE</td>\n",
       "      <td>True</td>\n",
       "      <td>藤井</td>\n",
       "      <td>TRUE</td>\n",
       "      <td>...</td>\n",
       "      <td>Mae w/ Divor (27 -&gt; 35)</td>\n",
       "      <td>Mae</td>\n",
       "      <td>28.0</td>\n",
       "      <td>72.0</td>\n",
       "      <td>-6.0</td>\n",
       "      <td>66.0</td>\n",
       "      <td>135.10</td>\n",
       "      <td>5.0</td>\n",
       "      <td>いいとこどり</td>\n",
       "      <td>１つ</td>\n",
       "    </tr>\n",
       "    <tr>\n",
       "      <th>4</th>\n",
       "      <td>5.0</td>\n",
       "      <td>SHA-NES</td>\n",
       "      <td>shioriabe</td>\n",
       "      <td>72.36</td>\n",
       "      <td>87.0</td>\n",
       "      <td>0.78</td>\n",
       "      <td>TRUE</td>\n",
       "      <td>True</td>\n",
       "      <td>後藤</td>\n",
       "      <td>FALSE</td>\n",
       "      <td>...</td>\n",
       "      <td>Mae w/ Divor (29 -&gt; 30)</td>\n",
       "      <td>Mae</td>\n",
       "      <td>42.0</td>\n",
       "      <td>58.0</td>\n",
       "      <td>-1.0</td>\n",
       "      <td>57.0</td>\n",
       "      <td>129.36</td>\n",
       "      <td>13.0</td>\n",
       "      <td>多数決</td>\n",
       "      <td>NaN</td>\n",
       "    </tr>\n",
       "    <tr>\n",
       "      <th>5</th>\n",
       "      <td>6.0</td>\n",
       "      <td>神ぼ大νττ</td>\n",
       "      <td>masaya</td>\n",
       "      <td>74.55</td>\n",
       "      <td>85.0</td>\n",
       "      <td>0.38</td>\n",
       "      <td>FALSE</td>\n",
       "      <td>True</td>\n",
       "      <td>なし</td>\n",
       "      <td>なし</td>\n",
       "      <td>...</td>\n",
       "      <td>Mae w/ Divor (32 -&gt;35)</td>\n",
       "      <td>Mae</td>\n",
       "      <td>40.0</td>\n",
       "      <td>60.0</td>\n",
       "      <td>-1.0</td>\n",
       "      <td>59.0</td>\n",
       "      <td>133.55</td>\n",
       "      <td>7.0</td>\n",
       "      <td>いいとこどり</td>\n",
       "      <td>NaN</td>\n",
       "    </tr>\n",
       "    <tr>\n",
       "      <th>6</th>\n",
       "      <td>7.0</td>\n",
       "      <td>たけのこ映画守り隊</td>\n",
       "      <td>takenoko</td>\n",
       "      <td>72.40</td>\n",
       "      <td>68.0</td>\n",
       "      <td>0.28</td>\n",
       "      <td>FALSE</td>\n",
       "      <td>False</td>\n",
       "      <td>なし</td>\n",
       "      <td>FALSE</td>\n",
       "      <td>...</td>\n",
       "      <td>Mae w/ Divor (32 -&gt;40)</td>\n",
       "      <td>Mae</td>\n",
       "      <td>36.0</td>\n",
       "      <td>64.0</td>\n",
       "      <td>-3.0</td>\n",
       "      <td>61.0</td>\n",
       "      <td>133.40</td>\n",
       "      <td>8.0</td>\n",
       "      <td>いいとこどり</td>\n",
       "      <td>0</td>\n",
       "    </tr>\n",
       "    <tr>\n",
       "      <th>7</th>\n",
       "      <td>8.0</td>\n",
       "      <td>0xA</td>\n",
       "      <td>yanomichi</td>\n",
       "      <td>63.30</td>\n",
       "      <td>84.0</td>\n",
       "      <td>0.46</td>\n",
       "      <td>FALSE</td>\n",
       "      <td>True</td>\n",
       "      <td>なし</td>\n",
       "      <td>FALSE</td>\n",
       "      <td>...</td>\n",
       "      <td>Mae w/ Divor (25 -&gt; 30)</td>\n",
       "      <td>Mae</td>\n",
       "      <td>31.0</td>\n",
       "      <td>69.0</td>\n",
       "      <td>3.0</td>\n",
       "      <td>69.0</td>\n",
       "      <td>132.30</td>\n",
       "      <td>11.0</td>\n",
       "      <td>いいとこどり</td>\n",
       "      <td>７つほど</td>\n",
       "    </tr>\n",
       "    <tr>\n",
       "      <th>8</th>\n",
       "      <td>9.0</td>\n",
       "      <td>ステテコ泥棒</td>\n",
       "      <td>autefu</td>\n",
       "      <td>72.20</td>\n",
       "      <td>91.0</td>\n",
       "      <td>0.24</td>\n",
       "      <td>TRUE</td>\n",
       "      <td>True</td>\n",
       "      <td>藤井</td>\n",
       "      <td>TRUE</td>\n",
       "      <td>...</td>\n",
       "      <td>Mae With Diversity (26 -&gt; 37)</td>\n",
       "      <td>Mae</td>\n",
       "      <td>26.0</td>\n",
       "      <td>74.0</td>\n",
       "      <td>2.0</td>\n",
       "      <td>74.0</td>\n",
       "      <td>146.20</td>\n",
       "      <td>2.0</td>\n",
       "      <td>藤井穴埋め大作戦</td>\n",
       "      <td>0</td>\n",
       "    </tr>\n",
       "    <tr>\n",
       "      <th>9</th>\n",
       "      <td>10.0</td>\n",
       "      <td>動的計画法</td>\n",
       "      <td>pwscup2024</td>\n",
       "      <td>86.10</td>\n",
       "      <td>92.0</td>\n",
       "      <td>0.24</td>\n",
       "      <td>TRUE</td>\n",
       "      <td>True</td>\n",
       "      <td>なし</td>\n",
       "      <td>TRUE</td>\n",
       "      <td>...</td>\n",
       "      <td>Mae With Diversity (32 -&gt; 35)</td>\n",
       "      <td>Mae</td>\n",
       "      <td>42.0</td>\n",
       "      <td>58.0</td>\n",
       "      <td>-1.0</td>\n",
       "      <td>57.0</td>\n",
       "      <td>143.10</td>\n",
       "      <td>3.0</td>\n",
       "      <td>藤井穴埋め大作戦</td>\n",
       "      <td>0</td>\n",
       "    </tr>\n",
       "    <tr>\n",
       "      <th>10</th>\n",
       "      <td>11.0</td>\n",
       "      <td>Gunmataro117</td>\n",
       "      <td>kabutookajima</td>\n",
       "      <td>76.89</td>\n",
       "      <td>89.0</td>\n",
       "      <td>0.89</td>\n",
       "      <td>FALSE</td>\n",
       "      <td>False</td>\n",
       "      <td>なし</td>\n",
       "      <td>FALSE</td>\n",
       "      <td>...</td>\n",
       "      <td>Mae With Diversity (33 -&gt; 36)</td>\n",
       "      <td>Mae</td>\n",
       "      <td>42.0</td>\n",
       "      <td>58.0</td>\n",
       "      <td>-1.0</td>\n",
       "      <td>57.0</td>\n",
       "      <td>133.89</td>\n",
       "      <td>6.0</td>\n",
       "      <td>いいとこどり</td>\n",
       "      <td>3つ</td>\n",
       "    </tr>\n",
       "    <tr>\n",
       "      <th>11</th>\n",
       "      <td>12.0</td>\n",
       "      <td>HAL</td>\n",
       "      <td>grape1978</td>\n",
       "      <td>80.17</td>\n",
       "      <td>86.0</td>\n",
       "      <td>0.34</td>\n",
       "      <td>TRUE</td>\n",
       "      <td>True</td>\n",
       "      <td>なし</td>\n",
       "      <td>FALSE</td>\n",
       "      <td>...</td>\n",
       "      <td>Mae With Diversity (33 -&gt; 37)</td>\n",
       "      <td>Mae</td>\n",
       "      <td>47.0</td>\n",
       "      <td>53.0</td>\n",
       "      <td>-4.0</td>\n",
       "      <td>49.0</td>\n",
       "      <td>129.17</td>\n",
       "      <td>14.0</td>\n",
       "      <td>いいとこどり</td>\n",
       "      <td>4つほど</td>\n",
       "    </tr>\n",
       "    <tr>\n",
       "      <th>12</th>\n",
       "      <td>13.0</td>\n",
       "      <td>（出場取消）</td>\n",
       "      <td>harada</td>\n",
       "      <td>NaN</td>\n",
       "      <td>NaN</td>\n",
       "      <td>NaN</td>\n",
       "      <td>FALSE</td>\n",
       "      <td>False</td>\n",
       "      <td>NaN</td>\n",
       "      <td>FALSE</td>\n",
       "      <td>...</td>\n",
       "      <td>NaN</td>\n",
       "      <td>NaN</td>\n",
       "      <td>NaN</td>\n",
       "      <td>NaN</td>\n",
       "      <td>NaN</td>\n",
       "      <td>NaN</td>\n",
       "      <td>NaN</td>\n",
       "      <td>NaN</td>\n",
       "      <td>いいとこどり</td>\n",
       "      <td>NaN</td>\n",
       "    </tr>\n",
       "    <tr>\n",
       "      <th>13</th>\n",
       "      <td>14.0</td>\n",
       "      <td>privocy</td>\n",
       "      <td>shibata</td>\n",
       "      <td>50.63</td>\n",
       "      <td>87.0</td>\n",
       "      <td>0.25</td>\n",
       "      <td>FALSE</td>\n",
       "      <td>False</td>\n",
       "      <td>なし</td>\n",
       "      <td>FALSE</td>\n",
       "      <td>...</td>\n",
       "      <td>Mae With Diversity</td>\n",
       "      <td>Mae</td>\n",
       "      <td>17.0</td>\n",
       "      <td>83.0</td>\n",
       "      <td>-2.0</td>\n",
       "      <td>81.0</td>\n",
       "      <td>131.63</td>\n",
       "      <td>12.0</td>\n",
       "      <td>いいとこどり</td>\n",
       "      <td>0</td>\n",
       "    </tr>\n",
       "    <tr>\n",
       "      <th>14</th>\n",
       "      <td>15.0</td>\n",
       "      <td>ES5</td>\n",
       "      <td>pwscup2024kobe</td>\n",
       "      <td>70.27</td>\n",
       "      <td>90.0</td>\n",
       "      <td>0.70</td>\n",
       "      <td>FALSE</td>\n",
       "      <td>True</td>\n",
       "      <td>なし</td>\n",
       "      <td>FALSE</td>\n",
       "      <td>...</td>\n",
       "      <td>多数決</td>\n",
       "      <td>多数決</td>\n",
       "      <td>85.0</td>\n",
       "      <td>15.0</td>\n",
       "      <td>-3.0</td>\n",
       "      <td>12.0</td>\n",
       "      <td>82.27</td>\n",
       "      <td>20.0</td>\n",
       "      <td>いいとこどり</td>\n",
       "      <td>NaN</td>\n",
       "    </tr>\n",
       "    <tr>\n",
       "      <th>15</th>\n",
       "      <td>16.0</td>\n",
       "      <td>佐古研究室</td>\n",
       "      <td>mgoto</td>\n",
       "      <td>82.02</td>\n",
       "      <td>90.0</td>\n",
       "      <td>0.26</td>\n",
       "      <td>FALSE</td>\n",
       "      <td>True</td>\n",
       "      <td>なし</td>\n",
       "      <td>TRUE</td>\n",
       "      <td>...</td>\n",
       "      <td>NaN</td>\n",
       "      <td>NaN</td>\n",
       "      <td>NaN</td>\n",
       "      <td>NaN</td>\n",
       "      <td>NaN</td>\n",
       "      <td>NaN</td>\n",
       "      <td>NaN</td>\n",
       "      <td>NaN</td>\n",
       "      <td>NaN</td>\n",
       "      <td>NaN</td>\n",
       "    </tr>\n",
       "    <tr>\n",
       "      <th>16</th>\n",
       "      <td>17.0</td>\n",
       "      <td>こそっとアタック、しれっとブロック</td>\n",
       "      <td>okano</td>\n",
       "      <td>67.00</td>\n",
       "      <td>84.0</td>\n",
       "      <td>0.32</td>\n",
       "      <td>TRUE</td>\n",
       "      <td>False</td>\n",
       "      <td>なし</td>\n",
       "      <td>FALSE</td>\n",
       "      <td>...</td>\n",
       "      <td>Mae With Diversity (30 -&gt;38)</td>\n",
       "      <td>Mae</td>\n",
       "      <td>34.0</td>\n",
       "      <td>66.0</td>\n",
       "      <td>2.0</td>\n",
       "      <td>66.0</td>\n",
       "      <td>133.00</td>\n",
       "      <td>9.0</td>\n",
       "      <td>いいとこどり</td>\n",
       "      <td>NaN</td>\n",
       "    </tr>\n",
       "    <tr>\n",
       "      <th>17</th>\n",
       "      <td>18.0</td>\n",
       "      <td>匿名アノニマス</td>\n",
       "      <td>hajime</td>\n",
       "      <td>29.38</td>\n",
       "      <td>85.0</td>\n",
       "      <td>0.24</td>\n",
       "      <td>TRUE</td>\n",
       "      <td>False</td>\n",
       "      <td>なし</td>\n",
       "      <td>FALSE</td>\n",
       "      <td>...</td>\n",
       "      <td>Mae With Diversity  (19 -&gt; 31)</td>\n",
       "      <td>Mae</td>\n",
       "      <td>12.0</td>\n",
       "      <td>88.0</td>\n",
       "      <td>-2.0</td>\n",
       "      <td>86.0</td>\n",
       "      <td>115.38</td>\n",
       "      <td>18.0</td>\n",
       "      <td>いいとこどり</td>\n",
       "      <td>NaN</td>\n",
       "    </tr>\n",
       "    <tr>\n",
       "      <th>18</th>\n",
       "      <td>19.0</td>\n",
       "      <td>RITCHEY</td>\n",
       "      <td>ritz2025</td>\n",
       "      <td>69.56</td>\n",
       "      <td>21.0</td>\n",
       "      <td>0.50</td>\n",
       "      <td>FALSE</td>\n",
       "      <td>True</td>\n",
       "      <td>なし</td>\n",
       "      <td>FALSE</td>\n",
       "      <td>...</td>\n",
       "      <td>多数決</td>\n",
       "      <td>多数決</td>\n",
       "      <td>83.0</td>\n",
       "      <td>17.0</td>\n",
       "      <td>49.0</td>\n",
       "      <td>17.0</td>\n",
       "      <td>86.56</td>\n",
       "      <td>19.0</td>\n",
       "      <td>いいとこどり</td>\n",
       "      <td>NaN</td>\n",
       "    </tr>\n",
       "    <tr>\n",
       "      <th>19</th>\n",
       "      <td>20.0</td>\n",
       "      <td>KAT-TUNE</td>\n",
       "      <td>kattune</td>\n",
       "      <td>72.08</td>\n",
       "      <td>89.0</td>\n",
       "      <td>0.31</td>\n",
       "      <td>TRUE</td>\n",
       "      <td>True</td>\n",
       "      <td>藤井</td>\n",
       "      <td>TRUE</td>\n",
       "      <td>...</td>\n",
       "      <td>Mae With Diversity (24 -&gt; 34)</td>\n",
       "      <td>Mae</td>\n",
       "      <td>21.0</td>\n",
       "      <td>79.0</td>\n",
       "      <td>-3.0</td>\n",
       "      <td>76.0</td>\n",
       "      <td>148.08</td>\n",
       "      <td>1.0</td>\n",
       "      <td>藤井穴埋め大作戦</td>\n",
       "      <td>0</td>\n",
       "    </tr>\n",
       "    <tr>\n",
       "      <th>20</th>\n",
       "      <td>21.0</td>\n",
       "      <td>PR.AVATECT</td>\n",
       "      <td>takanori</td>\n",
       "      <td>72.01</td>\n",
       "      <td>87.0</td>\n",
       "      <td>0.36</td>\n",
       "      <td>Genderのみ</td>\n",
       "      <td>True</td>\n",
       "      <td>藤井</td>\n",
       "      <td>TRUE</td>\n",
       "      <td>...</td>\n",
       "      <td>Mae With Diversity  (31 -&gt; 32)</td>\n",
       "      <td>Mae</td>\n",
       "      <td>30.0</td>\n",
       "      <td>70.0</td>\n",
       "      <td>3.0</td>\n",
       "      <td>70.0</td>\n",
       "      <td>142.01</td>\n",
       "      <td>4.0</td>\n",
       "      <td>いいとこどり</td>\n",
       "      <td>0</td>\n",
       "    </tr>\n",
       "    <tr>\n",
       "      <th>21</th>\n",
       "      <td>22.0</td>\n",
       "      <td>春日部防衛隊（かすかべ防衛隊）</td>\n",
       "      <td>crbfwd</td>\n",
       "      <td>70.38</td>\n",
       "      <td>91.0</td>\n",
       "      <td>0.26</td>\n",
       "      <td>TRUE</td>\n",
       "      <td>True</td>\n",
       "      <td>なし</td>\n",
       "      <td>FALSE</td>\n",
       "      <td>...</td>\n",
       "      <td>NaN</td>\n",
       "      <td>Mae</td>\n",
       "      <td>48.0</td>\n",
       "      <td>52.0</td>\n",
       "      <td>0.0</td>\n",
       "      <td>52.0</td>\n",
       "      <td>122.38</td>\n",
       "      <td>16.0</td>\n",
       "      <td>いいとこどり</td>\n",
       "      <td>NaN</td>\n",
       "    </tr>\n",
       "    <tr>\n",
       "      <th>22</th>\n",
       "      <td>NaN</td>\n",
       "      <td>NaN</td>\n",
       "      <td>NaN</td>\n",
       "      <td>NaN</td>\n",
       "      <td>NaN</td>\n",
       "      <td>NaN</td>\n",
       "      <td>NaN</td>\n",
       "      <td>NaN</td>\n",
       "      <td>NaN</td>\n",
       "      <td>NaN</td>\n",
       "      <td>...</td>\n",
       "      <td>NaN</td>\n",
       "      <td>NaN</td>\n",
       "      <td>NaN</td>\n",
       "      <td>NaN</td>\n",
       "      <td>NaN</td>\n",
       "      <td>868.0</td>\n",
       "      <td>NaN</td>\n",
       "      <td>NaN</td>\n",
       "      <td>NaN</td>\n",
       "      <td>NaN</td>\n",
       "    </tr>\n",
       "  </tbody>\n",
       "</table>\n",
       "<p>23 rows × 29 columns</p>\n",
       "</div>"
      ],
      "text/plain": [
       "      ID               チーム名           チーム代表  Utility Score  Sample Attack  \\\n",
       "0    1.0            宮地研.exe       myjlabexe          91.02           88.0   \n",
       "1    2.0          私達日本語本当下手          zelret          83.69           87.0   \n",
       "2    3.0             ポップコーン          jbstkf          76.76           84.0   \n",
       "3    4.0               Hots       rq1543180          69.10           81.0   \n",
       "4    5.0            SHA-NES       shioriabe          72.36           87.0   \n",
       "5    6.0             神ぼ大νττ          masaya          74.55           85.0   \n",
       "6    7.0          たけのこ映画守り隊        takenoko          72.40           68.0   \n",
       "7    8.0                0xA       yanomichi          63.30           84.0   \n",
       "8    9.0             ステテコ泥棒          autefu          72.20           91.0   \n",
       "9   10.0              動的計画法      pwscup2024          86.10           92.0   \n",
       "10  11.0       Gunmataro117   kabutookajima          76.89           89.0   \n",
       "11  12.0                HAL       grape1978          80.17           86.0   \n",
       "12  13.0             （出場取消）          harada            NaN            NaN   \n",
       "13  14.0            privocy         shibata          50.63           87.0   \n",
       "14  15.0                ES5  pwscup2024kobe          70.27           90.0   \n",
       "15  16.0              佐古研究室           mgoto          82.02           90.0   \n",
       "16  17.0  こそっとアタック、しれっとブロック           okano          67.00           84.0   \n",
       "17  18.0            匿名アノニマス          hajime          29.38           85.0   \n",
       "18  19.0            RITCHEY        ritz2025          69.56           21.0   \n",
       "19  20.0           KAT-TUNE         kattune          72.08           89.0   \n",
       "20  21.0         PR.AVATECT        takanori          72.01           87.0   \n",
       "21  22.0    春日部防衛隊（かすかべ防衛隊）          crbfwd          70.38           91.0   \n",
       "22   NaN                NaN             NaN            NaN            NaN   \n",
       "\n",
       "    Random Forestによる識別率 GAOZの分布の違いあり Reviewの分布の違いあり 攻撃担当者  重要チーム  ...  \\\n",
       "0                  0.30         TRUE           True    なし  FALSE  ...   \n",
       "1                  0.35         TRUE           True    なし  FALSE  ...   \n",
       "2                  0.44     Genderのみ          False    なし  FALSE  ...   \n",
       "3                  0.33         TRUE           True    藤井   TRUE  ...   \n",
       "4                  0.78         TRUE           True    後藤  FALSE  ...   \n",
       "5                  0.38        FALSE           True    なし     なし  ...   \n",
       "6                  0.28        FALSE          False    なし  FALSE  ...   \n",
       "7                  0.46        FALSE           True    なし  FALSE  ...   \n",
       "8                  0.24         TRUE           True    藤井   TRUE  ...   \n",
       "9                  0.24         TRUE           True    なし   TRUE  ...   \n",
       "10                 0.89        FALSE          False    なし  FALSE  ...   \n",
       "11                 0.34         TRUE           True    なし  FALSE  ...   \n",
       "12                  NaN        FALSE          False   NaN  FALSE  ...   \n",
       "13                 0.25        FALSE          False    なし  FALSE  ...   \n",
       "14                 0.70        FALSE           True    なし  FALSE  ...   \n",
       "15                 0.26        FALSE           True    なし   TRUE  ...   \n",
       "16                 0.32         TRUE          False    なし  FALSE  ...   \n",
       "17                 0.24         TRUE          False    なし  FALSE  ...   \n",
       "18                 0.50        FALSE           True    なし  FALSE  ...   \n",
       "19                 0.31         TRUE           True    藤井   TRUE  ...   \n",
       "20                 0.36     Genderのみ           True    藤井   TRUE  ...   \n",
       "21                 0.26         TRUE           True    なし  FALSE  ...   \n",
       "22                  NaN          NaN            NaN   NaN    NaN  ...   \n",
       "\n",
       "      ２回目の攻撃の手法 マッチング (Distinct変化)  ２回目の攻撃の手法 穴埋め gomi22  ２回目結果 ２回目の匿名点  \\\n",
       "0          Mae w/ Divor (40 -> 44)                   Mae   68.0    32.0   \n",
       "1          Mae w/ Divor (39 -> 40)                   Mae   51.0    49.0   \n",
       "2          Mae w/ Divor (34 -> 37)                   Mae   56.0    44.0   \n",
       "3          Mae w/ Divor (27 -> 35)                   Mae   28.0    72.0   \n",
       "4          Mae w/ Divor (29 -> 30)                   Mae   42.0    58.0   \n",
       "5           Mae w/ Divor (32 ->35)                   Mae   40.0    60.0   \n",
       "6           Mae w/ Divor (32 ->40)                   Mae   36.0    64.0   \n",
       "7          Mae w/ Divor (25 -> 30)                   Mae   31.0    69.0   \n",
       "8    Mae With Diversity (26 -> 37)                   Mae   26.0    74.0   \n",
       "9    Mae With Diversity (32 -> 35)                   Mae   42.0    58.0   \n",
       "10   Mae With Diversity (33 -> 36)                   Mae   42.0    58.0   \n",
       "11   Mae With Diversity (33 -> 37)                   Mae   47.0    53.0   \n",
       "12                             NaN                   NaN    NaN     NaN   \n",
       "13              Mae With Diversity                   Mae   17.0    83.0   \n",
       "14                             多数決                   多数決   85.0    15.0   \n",
       "15                             NaN                   NaN    NaN     NaN   \n",
       "16    Mae With Diversity (30 ->38)                   Mae   34.0    66.0   \n",
       "17  Mae With Diversity  (19 -> 31)                   Mae   12.0    88.0   \n",
       "18                             多数決                   多数決   83.0    17.0   \n",
       "19   Mae With Diversity (24 -> 34)                   Mae   21.0    79.0   \n",
       "20  Mae With Diversity  (31 -> 32)                   Mae   30.0    70.0   \n",
       "21                             NaN                   Mae   48.0    52.0   \n",
       "22                             NaN                   NaN    NaN     NaN   \n",
       "\n",
       "   改善2回目-１回目  Unnamed: 24  いいとこどり得点  いいとこどりでのランキング   3回目攻撃手法  泥臭方式  \n",
       "0        4.0         32.0    123.02           15.0    いいとこどり   NaN  \n",
       "1        1.0         49.0    132.69           10.0    いいとこどり   NaN  \n",
       "2       -2.0         42.0    118.76           17.0    いいとこどり  5つほど  \n",
       "3       -6.0         66.0    135.10            5.0    いいとこどり    １つ  \n",
       "4       -1.0         57.0    129.36           13.0       多数決   NaN  \n",
       "5       -1.0         59.0    133.55            7.0    いいとこどり   NaN  \n",
       "6       -3.0         61.0    133.40            8.0    いいとこどり     0  \n",
       "7        3.0         69.0    132.30           11.0    いいとこどり  ７つほど  \n",
       "8        2.0         74.0    146.20            2.0  藤井穴埋め大作戦     0  \n",
       "9       -1.0         57.0    143.10            3.0  藤井穴埋め大作戦     0  \n",
       "10      -1.0         57.0    133.89            6.0    いいとこどり    3つ  \n",
       "11      -4.0         49.0    129.17           14.0    いいとこどり  4つほど  \n",
       "12       NaN          NaN       NaN            NaN    いいとこどり   NaN  \n",
       "13      -2.0         81.0    131.63           12.0    いいとこどり     0  \n",
       "14      -3.0         12.0     82.27           20.0    いいとこどり   NaN  \n",
       "15       NaN          NaN       NaN            NaN       NaN   NaN  \n",
       "16       2.0         66.0    133.00            9.0    いいとこどり   NaN  \n",
       "17      -2.0         86.0    115.38           18.0    いいとこどり   NaN  \n",
       "18      49.0         17.0     86.56           19.0    いいとこどり   NaN  \n",
       "19      -3.0         76.0    148.08            1.0  藤井穴埋め大作戦     0  \n",
       "20       3.0         70.0    142.01            4.0    いいとこどり     0  \n",
       "21       0.0         52.0    122.38           16.0    いいとこどり   NaN  \n",
       "22       NaN        868.0       NaN            NaN       NaN   NaN  \n",
       "\n",
       "[23 rows x 29 columns]"
      ]
     },
     "metadata": {},
     "output_type": "display_data"
    }
   ],
   "source": [
    "import pandas as pd\n",
    "from IPython.display import Markdown, display\n",
    "def printmd(string):\n",
    "    display(Markdown(string))\n",
    "\n",
    "sheet = pd.read_csv(\"./spread_sheet.csv\")\n",
    "display(sheet)"
   ]
  },
  {
   "cell_type": "code",
   "execution_count": 31,
   "metadata": {},
   "outputs": [
    {
     "data": {
      "text/markdown": [
       "チーム1: 宮地研.exe <br>&nbsp; first: 64.0, second: <span style='color:yellow'>68.0</span> 2回目を採用"
      ],
      "text/plain": [
       "<IPython.core.display.Markdown object>"
      ]
     },
     "metadata": {},
     "output_type": "display_data"
    },
    {
     "data": {
      "text/markdown": [
       "チーム2: 私達日本語本当下手 <br>&nbsp; first: 50.0, second: <span style='color:yellow'>51.0</span> 2回目を採用"
      ],
      "text/plain": [
       "<IPython.core.display.Markdown object>"
      ]
     },
     "metadata": {},
     "output_type": "display_data"
    },
    {
     "data": {
      "text/markdown": [
       "チーム3: ポップコーン <br>&nbsp; first: <span style='color:yellow'>58.0</span>, second: 56.0 1回目を採用"
      ],
      "text/plain": [
       "<IPython.core.display.Markdown object>"
      ]
     },
     "metadata": {},
     "output_type": "display_data"
    },
    {
     "data": {
      "text/markdown": [
       "チーム4: Hots <br>&nbsp; first: <span style='color:yellow'>34.0</span>, second: 28.0 1回目を採用"
      ],
      "text/plain": [
       "<IPython.core.display.Markdown object>"
      ]
     },
     "metadata": {},
     "output_type": "display_data"
    },
    {
     "data": {
      "text/markdown": [
       "チーム5: SHA-NES <br>&nbsp; first: <span style='color:yellow'>43.0</span>, second: 42.0 1回目を採用"
      ],
      "text/plain": [
       "<IPython.core.display.Markdown object>"
      ]
     },
     "metadata": {},
     "output_type": "display_data"
    },
    {
     "data": {
      "text/markdown": [
       "チーム6: 神ぼ大νττ <br>&nbsp; first: <span style='color:yellow'>41.0</span>, second: 40.0 1回目を採用"
      ],
      "text/plain": [
       "<IPython.core.display.Markdown object>"
      ]
     },
     "metadata": {},
     "output_type": "display_data"
    },
    {
     "data": {
      "text/markdown": [
       "チーム7: たけのこ映画守り隊 <br>&nbsp; first: <span style='color:yellow'>39.0</span>, second: 36.0 1回目を採用"
      ],
      "text/plain": [
       "<IPython.core.display.Markdown object>"
      ]
     },
     "metadata": {},
     "output_type": "display_data"
    },
    {
     "data": {
      "text/markdown": [
       "チーム8: 0xA <br>&nbsp; first: 28.0, second: <span style='color:yellow'>31.0</span> 2回目を採用"
      ],
      "text/plain": [
       "<IPython.core.display.Markdown object>"
      ]
     },
     "metadata": {},
     "output_type": "display_data"
    },
    {
     "data": {
      "text/markdown": [
       "チーム9: ステテコ泥棒 <br>&nbsp; first: 24.0, second: <span style='color:yellow'>26.0</span> 2回目を採用"
      ],
      "text/plain": [
       "<IPython.core.display.Markdown object>"
      ]
     },
     "metadata": {},
     "output_type": "display_data"
    },
    {
     "data": {
      "text/markdown": [
       "&nbsp; 穴埋めはベイズ推定を適用します。"
      ],
      "text/plain": [
       "<IPython.core.display.Markdown object>"
      ]
     },
     "metadata": {},
     "output_type": "display_data"
    },
    {
     "data": {
      "text/markdown": [
       "チーム10: 動的計画法 <br>&nbsp; first: <span style='color:yellow'>43.0</span>, second: 42.0 1回目を採用"
      ],
      "text/plain": [
       "<IPython.core.display.Markdown object>"
      ]
     },
     "metadata": {},
     "output_type": "display_data"
    },
    {
     "data": {
      "text/markdown": [
       "チーム11: Gunmataro117 <br>&nbsp; first: <span style='color:yellow'>43.0</span>, second: 42.0 1回目を採用"
      ],
      "text/plain": [
       "<IPython.core.display.Markdown object>"
      ]
     },
     "metadata": {},
     "output_type": "display_data"
    },
    {
     "data": {
      "text/markdown": [
       "チーム12: HAL <br>&nbsp; first: <span style='color:yellow'>51.0</span>, second: 47.0 1回目を採用"
      ],
      "text/plain": [
       "<IPython.core.display.Markdown object>"
      ]
     },
     "metadata": {},
     "output_type": "display_data"
    },
    {
     "data": {
      "text/markdown": [
       "チーム13: （出場取消） <br>&nbsp; first: nan, second: <span style='color:yellow'>nan</span> 2回目を採用"
      ],
      "text/plain": [
       "<IPython.core.display.Markdown object>"
      ]
     },
     "metadata": {},
     "output_type": "display_data"
    },
    {
     "data": {
      "text/markdown": [
       "チーム14: privocy <br>&nbsp; E14.csvを読み込み"
      ],
      "text/plain": [
       "<IPython.core.display.Markdown object>"
      ]
     },
     "metadata": {},
     "output_type": "display_data"
    },
    {
     "data": {
      "text/markdown": [
       "チーム15: ES5 <br>&nbsp; first: <span style='color:yellow'>88.0</span>, second: 85.0 1回目を採用"
      ],
      "text/plain": [
       "<IPython.core.display.Markdown object>"
      ]
     },
     "metadata": {},
     "output_type": "display_data"
    },
    {
     "data": {
      "text/markdown": [
       "チーム16: 佐古研究室 <br>&nbsp; first: 47.0, second: <span style='color:yellow'>nan</span> 2回目を採用"
      ],
      "text/plain": [
       "<IPython.core.display.Markdown object>"
      ]
     },
     "metadata": {},
     "output_type": "display_data"
    },
    {
     "data": {
      "text/markdown": [
       "チーム17: こそっとアタック、しれっとブロック <br>&nbsp; first: 32.0, second: <span style='color:yellow'>34.0</span> 2回目を採用"
      ],
      "text/plain": [
       "<IPython.core.display.Markdown object>"
      ]
     },
     "metadata": {},
     "output_type": "display_data"
    },
    {
     "data": {
      "text/markdown": [
       "チーム18: 匿名アノニマス <br>&nbsp; E18.csvを読み込み"
      ],
      "text/plain": [
       "<IPython.core.display.Markdown object>"
      ]
     },
     "metadata": {},
     "output_type": "display_data"
    },
    {
     "data": {
      "text/markdown": [
       "チーム19: RITCHEY <br>&nbsp; first: 34.0, second: <span style='color:yellow'>83.0</span> 2回目を採用"
      ],
      "text/plain": [
       "<IPython.core.display.Markdown object>"
      ]
     },
     "metadata": {},
     "output_type": "display_data"
    },
    {
     "data": {
      "text/markdown": [
       "チーム20: KAT-TUNE <br>&nbsp; first: <span style='color:yellow'>24.0</span>, second: 21.0 1回目を採用"
      ],
      "text/plain": [
       "<IPython.core.display.Markdown object>"
      ]
     },
     "metadata": {},
     "output_type": "display_data"
    },
    {
     "data": {
      "text/markdown": [
       "&nbsp; 穴埋めはベイズ推定を適用します。"
      ],
      "text/plain": [
       "<IPython.core.display.Markdown object>"
      ]
     },
     "metadata": {},
     "output_type": "display_data"
    },
    {
     "data": {
      "text/markdown": [
       "チーム21: PR.AVATECT <br>&nbsp; first: 27.0, second: <span style='color:yellow'>30.0</span> 2回目を採用"
      ],
      "text/plain": [
       "<IPython.core.display.Markdown object>"
      ]
     },
     "metadata": {},
     "output_type": "display_data"
    },
    {
     "data": {
      "text/markdown": [
       "&nbsp; 穴埋めはベイズ推定を適用します。"
      ],
      "text/plain": [
       "<IPython.core.display.Markdown object>"
      ]
     },
     "metadata": {},
     "output_type": "display_data"
    },
    {
     "data": {
      "text/markdown": [
       "チーム22: 春日部防衛隊（かすかべ防衛隊） <br>&nbsp; first: 48.0, second: <span style='color:yellow'>48.0</span> 2回目を採用"
      ],
      "text/plain": [
       "<IPython.core.display.Markdown object>"
      ]
     },
     "metadata": {},
     "output_type": "display_data"
    }
   ],
   "source": [
    "for row_index in range(22):\n",
    "    team_id = row_index + 1\n",
    "    name = sheet[\"チーム名\"].iloc[row_index]\n",
    "    if team_id in OTHER_TEAM_LIST:\n",
    "        printmd(f\"チーム{team_id}: {name} <br>&nbsp; E{team_id}.csvを読み込み\")\n",
    "        continue\n",
    "    first, second = sheet[\"一回目攻撃結果\"].iloc[row_index], sheet[\"２回目結果\"].iloc[row_index]\n",
    "    if first > second:\n",
    "        FIRST_ATTACK_LIST.append(team_id)\n",
    "        printmd(f\"チーム{team_id}: {name} <br>&nbsp; first: <span style='color:yellow'>{first}</span>, second: {second} 1回目を採用\")\n",
    "        if team_id in ANAUME_TEAM_LIST:\n",
    "            printmd(\"&nbsp; 穴埋めはベイズ推定を適用します。\")\n",
    "    else:\n",
    "        SECOND_ATTACK_LIST.append(team_id)\n",
    "        printmd(f\"チーム{team_id}: {name} <br>&nbsp; first: {first}, second: <span style='color:yellow'>{second}</span> 2回目を採用\")\n",
    "        if team_id in ANAUME_TEAM_LIST:\n",
    "            printmd(\"&nbsp; 穴埋めはベイズ推定を適用します。\")"
   ]
  },
  {
   "cell_type": "code",
   "execution_count": 32,
   "metadata": {},
   "outputs": [
    {
     "name": "stdout",
     "output_type": "stream",
     "text": [
      "12 0 28 0 38 0 23 2 16 0 29 0 32 0 13 2 40 5 19 0 44 1 40 0 * * 10 0 29 1 * * 39 1 28 1  6 0 42 0 17 4 25 2\n",
      "16 4 25 0  7 0 45 1 19 2 20 0 31 2 22 0 42 2  5 0 21 3 47 4 * *  9 0 18 5 * * 29 0 42 3 17 0 33 0 19 0 42 0\n",
      " 3 0 34 0 17 0 37 0 13 4 25 1 12 5 40 0 24 0 18 0 13 0  5 5 * *  1 1 39 1 * * 32 4  4 0 34 0 43 5 23 1 16 0\n",
      "43 4 36 4 13 2 23 1 24 0 26 1 28 0 47 1  9 0 22 0 48 0 22 4 * * 24 4 37 5 * * 16 1 19 2 19 2 21 0 14 0 13 2\n",
      "34 0 37 0 48 0 43 0 20 0 17 0 24 5 23 5 39 0  8 1 21 4 31 0 * *  9 3 34 1 * * 39 3 36 2  9 2 43 0 26 0 30 0\n",
      "38 2 11 5 29 0  1 2 13 2  2 1 28 0  4 0 29 0 28 0 21 0 49 3 * *  2 0  3 0 * * 31 0 34 4 47 0 23 1 49 0 20 0\n",
      " 0 4 23 2 12 5 37 0 37 1 18 4 21 0  2 5 23 0 36 0 41 4  7 0 * * 13 0 14 2 * *  4 1  0 0 32 0 36 4  6 0  4 0\n",
      "36 0 37 1 15 1 37 3 14 0  9 0  0 0 23 4 29 0 43 5 37 0 23 0 * * 34 0 25 5 * * 15 0 35 0 15 3 31 0 11 0 44 3\n",
      "32 0 32 0 46 0 48 0 38 3 36 2 16 2 24 5 12 4  2 3 45 0 42 5 * *  2 0 44 1 * * 14 1  8 3  3 5 47 5 28 4 12 0\n",
      "24 5  5 0  0 0  9 4  6 4 49 0 13 0 41 0 43 0 48 0 33 5 23 0 * * 14 0 31 3 * * 33 1 36 2 39 2 20 0 13 0 38 0\n",
      "44 4 24 2 29 4 49 5 35 0 23 2  2 5 29 1 32 5 43 0  0 0  9 0 * * 11 1 36 4 * * 48 4 30 5 31 3 49 5 10 5 17 2\n",
      "42 2 30 4 21 2 37 0  1 0 15 4  1 0 17 5 21 0  5 0 13 0 19 0 * *  9 2 24 1 * * 35 4  0 5 44 0 19 1 30 0  4 0\n",
      "19 1  0 0 34 4 22 0 17 2 26 3 43 0 29 1 25 4 39 0 29 0 41 3 * *  6 1 49 0 * * 46 0 11 0 28 4 21 0  4 0 15 4\n",
      "23 2  9 5 33 0 36 0 10 4 32 0 35 0  2 4 33 0 40 0 10 0 29 1 * * 22 0 42 0 * * 30 0 32 5 13 3 23 0 28 0 43 0\n",
      " 4 5 41 0 30 0 21 2  4 4 29 0 45 1  1 5 30 0  0 0 46 1  6 4 * * 22 0 27 0 * *  1 0 38 5 49 5 21 0 12 0  3 4\n",
      " 2 0  2 0 34 0 49 3 30 0 18 3 10 0 35 3  3 0 49 3 32 0  1 0 * *  3 1 23 0 * *  2 2  9 4  8 0 33 0 42 0 35 3\n",
      "40 0 10 2 32 0  7 0 16 0 30 0 10 5  2 4 20 0 29 1 27 1 10 4 * * 46 1 20 0 * * 38 2 14 4 43 0 42 0  4 0 42 0\n",
      "41 0 27 5 45 3 15 0 38 0  8 4 46 3 11 0 48 2 34 2 40 0 16 2 * * 22 0 46 2 * * 31 3  3 3 29 4 19 0 41 0 34 5\n",
      "48 1 49 4  6 2 31 1 45 1 41 0 42 0 18 3 40 5 13 1 33 0 40 3 * * 22 5  0 0 * * 40 0 41 5 23 5  2 5 35 3 18 2\n",
      " 5 0  8 0 26 0 49 0  6 0 40 3 17 0  9 3 28 4 27 0 45 0 23 0 * *  0 5  8 1 * * 23 0 45 3 16 0 24 0 41 0  9 3\n",
      "45 0 22 0  1 0 20 0 14 0  5 4 12 1 10 5 28 0 34 3 30 0 47 1 * * 27 3 19 5 * * 27 5 44 2  5 4 40 0 20 0 16 0\n",
      "10 4 27 4 20 0 15 2 27 5 48 0  0 0 49 2  8 5 25 0 43 0 23 0 * * 39 2 38 5 * *  3 5 31 5  0 1 35 5 25 5 11 4\n",
      "14 0 40 0 16 0 13 0 22 0  0 0  5 0 30 0 12 0 43 0 14 1 23 0 * * 41 0 10 3 * * 26 0 33 0 33 2 42 0 31 5 48 2\n",
      "21 0 21 0 29 0  7 0 13 4 26 3  7 1 25 2  0 0 13 1  9 3 27 1 * *  8 0 40 0 * * 39 1  5 4  7 4 32 0 42 0  5 2\n",
      "33 0 33 1 28 2 26 3 23 0 44 0 26 0 30 0 44 0  8 0  7 5 17 1 * *  9 0  1 2 * * 20 0 33 3 12 1 36 0 40 0 10 1\n",
      "17 4 22 4 47 0 22 0 46 0 44 1 10 0 15 0 22 0  7 0  8 0 45 0 * *  9 2  9 2 * * 42 3 16 5 48 1 21 4 23 4 14 0\n",
      "49 4 19 4 24 1 20 2 35 0 28 0 42 3  3 1  2 5 13 5 11 0 48 1 * * 45 0 47 0 * * 47 5 29 5 21 4 24 5  7 3 31 3\n",
      "47 0 44 3 12 4 47 4 47 0 34 0 28 0  6 1 40 0  9 2 14 5 23 0 * *  1 5 26 0 * *  2 0 18 1 41 0 22 0 38 0 24 3\n",
      "11 0 14 1 14 5 18 0 49 0 40 0  3 2 40 0 18 4 30 0  1 0 28 0 * * 28 0 45 0 * *  8 1  0 0  4 1 43 0  3 0 45 0\n",
      " 8 0 45 0 24 0 42 0 38 0 11 0  5 0  0 0  7 0 38 0  4 0 44 0 * * 11 3 33 4 * *  7 0  0 0 14 0 26 0 30 0 31 3\n",
      "29 2 15 0 23 0 22 0 36 0 41 0 12 0 47 0 14 2 10 0 13 0 10 0 * *  8 0  5 2 * * 41 0 27 2 22 0 36 0  2 0  6 0\n",
      " 1 2 42 1 13 0  5 0 13 2 20 0 22 0 42 0 26 0 23 3  1 4 20 0 * *  8 0  4 5 * * 49 0 39 1 20 2 43 0 20 5  4 5\n",
      "44 2 18 1 37 0 22 3  9 1 28 2 36 0 27 0 20 1 34 0 31 0 40 0 * * 31 5  6 2 * * 19 0  5 1 25 0 47 0 14 2 20 1\n",
      "20 2 41 0 27 0 37 0 40 0 13 0  6 5 46 5 39 0  5 5 19 0 18 0 * * 10 5 13 1 * * 47 5 26 0  1 5 20 0 21 1  4 5\n",
      "25 2  0 0 23 0 38 4 11 3 28 3  4 4 30 0 30 0 31 4  1 4 44 0 * * 20 0 22 1 * * 15 1 36 1 37 0 23 0 44 2 37 3\n",
      " 9 1 18 2 14 3 22 0 40 2  2 3 47 4 15 0 37 5 15 1 27 5  8 2 * * 17 1  2 1 * * 45 2  0 5 30 5 11 5  3 1  6 0\n",
      "22 3 35 0 40 1  1 3 23 0 10 0 18 0  6 3 47 3 41 1 26 1 37 0 * *  8 0 17 5 * * 18 5  4 0 36 3 43 5 48 1 41 2\n",
      " 8 0 38 2  8 5  9 2 30 0 29 0 14 0 36 3 31 3  5 0 49 0 42 0 * *  6 0 32 4 * * 21 1 35 2 42 1 13 4  9 2  9 4\n",
      "27 5 30 3  9 5 33 5 10 2 46 3 34 0 27 0 36 0 19 5 30 5 36 2 * * 30 0  7 0 * * 11 0  0 0 35 0 23 1 43 0 31 2\n",
      "13 0 39 3 23 1 17 0  8 2 11 1  5 0 18 0  7 4 35 5 10 0 49 2 * * 11 5 15 2 * * 20 0  9 1 40 3 43 3 20 5 49 0\n",
      "35 1 31 0 43 0 10 0 29 0 19 0 28 0 29 0 21 0  9 0 17 0 33 0 * * 20 0 21 2 * * 30 0  7 0 18 0 23 0 38 3 39 0\n",
      "30 4 16 5 27 1 31 5  6 1 42 3 36 3  4 0 27 0 27 0  6 4 15 0 * * 23 4 48 4 * * 23 0 13 3 27 0 44 0 33 0  8 1\n",
      "18 5 38 0 25 0 27 0 25 1 32 2  1 1 31 0 16 3 25 0 28 0 23 5 * * 27 3 43 4 * * 11 5 48 5 46 5 23 5 13 2  0 0\n",
      "39 1 47 4 33 5 47 0  8 1 29 0 48 5  4 3 18 0  5 0  8 0  8 5 * * 34 5 30 5 * * 12 4 21 5 11 1 43 2 42 0 44 0\n",
      "25 0 17 2 46 0  7 5 40 1 13 0 33 2 25 0 38 3 19 5 20 2 42 2 * * 26 0 35 0 * *  5 2 37 0 45 0 43 4 14 0  7 5\n",
      " 7 0  7 0  8 0 10 0 14 0 14 0 35 0 46 0 16 0 43 0 13 1  4 0 * * 11 0 12 0 * * 24 0  4 0  2 0  1 0 17 0 39 3\n",
      "19 4 29 0 37 0 22 0 24 0 39 0 10 0 39 1 11 0 47 5 32 2 23 0 * * 49 0 41 4 * *  3 0 20 3 10 0 34 1 12 0 47 3\n",
      "41 0 24 3 11 1 10 0 47 0 19 0  9 4 14 5 34 0  0 0 36 4 11 0 * * 16 0 16 0 * * 48 1 24 2 24 0 29 0 23 0 19 0\n",
      "15 2 26 2 42 5  5 0 27 0 27 0 22 4  1 1 39 0  1 4 35 0 23 0 * * 12 0 28 3 * *  0 0 33 4 26 0 20 0 40 0 39 0\n",
      "46 0  4 3 26 5 35 3  6 0 34 2  1 2 46 1 45 1 37 4  8 4 25 2 * * 31 0 11 4 * * 36 5 41 3 38 5 22 4  8 3 38 0\n"
     ]
    }
   ],
   "source": [
    "# ファイルを読み込む関数\n",
    "def read_data(file_path):\n",
    "    df = pd.read_csv(file_path, header=None)\n",
    "    return df\n",
    "\n",
    "# チームIDに基づいて良い方の提出データを選択する関数\n",
    "def select_best_submission(df1, df2, first_team_ids=FIRST_ATTACK_LIST, second_team_ids=SECOND_ATTACK_LIST, anaume_team_ids=ANAUME_TEAM_LIST):\n",
    "    selected_data = pd.DataFrame()\n",
    "    # チームIDが小さい順に並べる\n",
    "    team_ids = sorted(first_team_ids + second_team_ids + OTHER_TEAM_LIST)\n",
    "    for team_id in team_ids:\n",
    "        col_num = (int(team_id) - 1) * 2\n",
    "        if team_id in OTHER_TEAM_LIST:\n",
    "            # 例外のチームのcsvを読み込み（列は左からID, ID+1番目）\n",
    "            df = pd.read_csv(f\"./input/E{team_id}.csv\")\n",
    "            selected_data = pd.concat([selected_data, df[[f\"{team_id}\", f\"{team_id+1}\"]]], axis=1)  \n",
    "            continue      \n",
    "\n",
    "        if team_id in first_team_ids:\n",
    "            if team_id in anaume_team_ids:\n",
    "                # マッチングだけ1回目から、穴埋めは最初に指定\n",
    "                selected_data = pd.concat([selected_data, df1[[col_num]]], axis=1)\n",
    "                anaume_df = pd.DataFrame(anaume_dict[team_id])\n",
    "                selected_data = pd.concat([selected_data, anaume_df], axis=1)\n",
    "            else:\n",
    "                # df1から該当チームの提出データを選択\n",
    "                selected_data = pd.concat([selected_data, df1[[col_num, col_num + 1]]], axis=1)\n",
    "        else:\n",
    "            if team_id in anaume_team_ids:\n",
    "                # マッチングだけ2回目から、穴埋めは最初に指定\n",
    "                selected_data = pd.concat([selected_data, df2[[col_num]]], axis=1)\n",
    "                anaume_df = pd.DataFrame(anaume_dict[team_id])\n",
    "                selected_data = pd.concat([selected_data, anaume_df], axis=1)\n",
    "            else:\n",
    "                # df2から該当チームの提出データを選択\n",
    "                selected_data = pd.concat([selected_data, df2[[col_num, col_num + 1]]], axis=1)\n",
    "    return selected_data\n",
    "\n",
    "# 結果をCSVに書き出す関数\n",
    "def save_to_csv(df, output_path):\n",
    "    df.to_csv(output_path, index=False, header=False)\n",
    "\n",
    "# CSVファイルを読み込み\n",
    "df1 = read_data(FIRST_SUBMISSION_PATH)\n",
    "df2 = read_data(SECOND_SUBMISSION_PATH)\n",
    "\n",
    "merged_df = select_best_submission(df1, df2)\n",
    "print(merged_df.to_string(index=False, header=False))\n",
    "# 結果をCSVに保存\n",
    "save_to_csv(merged_df, 'E16.csv')"
   ]
  }
 ],
 "metadata": {
  "kernelspec": {
   "display_name": "fujii-uWJbZOW4",
   "language": "python",
   "name": "python3"
  },
  "language_info": {
   "codemirror_mode": {
    "name": "ipython",
    "version": 3
   },
   "file_extension": ".py",
   "mimetype": "text/x-python",
   "name": "python",
   "nbconvert_exporter": "python",
   "pygments_lexer": "ipython3",
   "version": "3.10.6"
  }
 },
 "nbformat": 4,
 "nbformat_minor": 2
}
