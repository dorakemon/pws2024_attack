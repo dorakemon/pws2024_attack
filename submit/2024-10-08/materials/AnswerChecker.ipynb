{
 "cells": [
  {
   "cell_type": "code",
   "execution_count": 3,
   "metadata": {},
   "outputs": [],
   "source": [
    "import pandas as pd\n",
    "from IPython.display import Markdown, display\n",
    "\n",
    "# 自分のチームID、出場停止チームのID\n",
    "TEAM_ID = \"16\"\n",
    "IGNORE_TEAMS = [\"13\"]\n",
    "FILE_PATH = f\"./E{TEAM_ID}_merge_election.csv\""
   ]
  },
  {
   "cell_type": "code",
   "execution_count": 4,
   "metadata": {},
   "outputs": [
    {
     "data": {
      "text/markdown": [
       "データサイズは50行×44列です。"
      ],
      "text/plain": [
       "<IPython.core.display.Markdown object>"
      ]
     },
     "metadata": {},
     "output_type": "display_data"
    },
    {
     "data": {
      "text/markdown": [
       "マッチングの値は全て0～49の範囲内です。"
      ],
      "text/plain": [
       "<IPython.core.display.Markdown object>"
      ]
     },
     "metadata": {},
     "output_type": "display_data"
    },
    {
     "data": {
      "text/markdown": [
       "穴埋めの値は全て0～5の範囲内です。"
      ],
      "text/plain": [
       "<IPython.core.display.Markdown object>"
      ]
     },
     "metadata": {},
     "output_type": "display_data"
    },
    {
     "data": {
      "text/markdown": [
       "<span style='color:cyan'>提出可能なデータです。</span>"
      ],
      "text/plain": [
       "<IPython.core.display.Markdown object>"
      ]
     },
     "metadata": {},
     "output_type": "display_data"
    }
   ],
   "source": [
    "def printmd(string):\n",
    "    display(Markdown(string))\n",
    "\n",
    "def validate_contest_data(file_path, team_id_to_ignore):\n",
    "    ok = True\n",
    "    # データの読み込み\n",
    "    df = pd.read_csv(file_path, header=None)\n",
    "    \n",
    "    ignore_list = [int(team_id_to_ignore) - 1]\n",
    "    for id in IGNORE_TEAMS:\n",
    "        ignore_list.append(int(id) - 1)\n",
    "    \n",
    "    # テーブルが50行×44列であるかを検証\n",
    "    if df.shape != (50, 44):\n",
    "        print(\"エラー：データのサイズが50行×44列ではありません。\")\n",
    "        print(f\"実際のサイズ：{df.shape[0]}行 × {df.shape[1]}列\")\n",
    "        return\n",
    "    \n",
    "    printmd(\"データサイズは50行×44列です。\")\n",
    "    \n",
    "    # 列番号を0から始まるインデックスとして扱う\n",
    "    num_columns = df.shape[1]\n",
    "    \n",
    "    # チームの列ペアを作成（TeamID*2, TeamID*2 + 1）\n",
    "    team_columns = [(i, i+1) for i in range(0, num_columns, 2)]\n",
    "    \n",
    "    # 自チームと出場停止チームの列を無視する\n",
    "    columns_to_check = []\n",
    "    for team_idx, (col_even, col_odd) in enumerate(team_columns):\n",
    "        if team_idx in ignore_list:\n",
    "            continue\n",
    "        columns_to_check.append((col_even, col_odd))\n",
    "    \n",
    "    # 偶数番目の列の値が0～49の離散値であるかを検証\n",
    "    for col_even, col_odd in columns_to_check:\n",
    "        team = int(col_even/2) + 1\n",
    "        even_values = df[col_even].dropna()\n",
    "        if not even_values.apply(lambda x: x in range(0, 50)).all():\n",
    "            print(f\"エラー：列 {col_even} （team:{team}）の値が0～49の範囲外の値を含んでいます。\")\n",
    "    \n",
    "    printmd(\"マッチングの値は全て0～49の範囲内です。\")\n",
    "    \n",
    "    # 奇数番目の列の値が0～5の離散値であるかを検証\n",
    "    for col_even, col_odd in columns_to_check:\n",
    "        team = int(col_even/2) + 1\n",
    "        odd_values = df[col_odd].dropna()\n",
    "        if not odd_values.apply(lambda x: x in range(0, 6)).all():\n",
    "            print(f\"エラー：列 {col_odd} （tean:{team}）の値が0～5の範囲外の値を含んでいます。\")\n",
    "    \n",
    "    printmd(\"穴埋めの値は全て0～5の範囲内です。\")\n",
    "    \n",
    "    # 各チームの奇数番目の列について、0の数が30個以下であるかを検証\n",
    "    for _, (col_even, col_odd) in enumerate(columns_to_check):\n",
    "        team_idx = int(col_even/2) + 1\n",
    "        odd_values = df[col_odd]\n",
    "        zero_count = (odd_values == 0).sum()\n",
    "        if zero_count > 30:\n",
    "            ok = False\n",
    "            printmd(f\"チーム {team_idx}（<span style='color:yellow'>col.{col_odd}</span>）は、<span style='color:yellow'>0の数が30個を超えています。</span>（{zero_count}個）\")\n",
    "        # else:\n",
    "        #     print(f\"チーム {team_idx}（col.{col_odd}）は、0の数が30個以下です。（{zero_count}個）\")\n",
    "            \n",
    "    if ok:\n",
    "        printmd(\"<span style='color:cyan'>提出可能なデータです。</span>\")\n",
    "    else:\n",
    "        printmd(\"<span style='color:yellow'>提出可能なデータではありません。</span>\")\n",
    "\n",
    "validate_contest_data(FILE_PATH, TEAM_ID)"
   ]
  }
 ],
 "metadata": {
  "kernelspec": {
   "display_name": "Python 3",
   "language": "python",
   "name": "python3"
  },
  "language_info": {
   "codemirror_mode": {
    "name": "ipython",
    "version": 3
   },
   "file_extension": ".py",
   "mimetype": "text/x-python",
   "name": "python",
   "nbconvert_exporter": "python",
   "pygments_lexer": "ipython3",
   "version": "3.11.5"
  }
 },
 "nbformat": 4,
 "nbformat_minor": 2
}
